{
 "cells": [
  {
   "cell_type": "code",
   "execution_count": 2,
   "metadata": {
    "id": "D9CChuEwwvVE"
   },
   "outputs": [],
   "source": [
    "import numpy as np\n",
    "import pandas as pd\n",
    "from matplotlib import pyplot as plt"
   ]
  },
  {
   "cell_type": "code",
   "execution_count": 3,
   "metadata": {
    "id": "Z3w0LQ11w6dl"
   },
   "outputs": [],
   "source": [
    "# df = pd.read_csv(\"sentimentdataset.csv\",header=None)\n",
    "df = pd.read_csv(\"twitter_training.csv\",header=None)"
   ]
  },
  {
   "cell_type": "code",
   "execution_count": 4,
   "metadata": {
    "colab": {
     "base_uri": "https://localhost:8080/",
     "height": 206
    },
    "id": "4e6tnGbcxaiu",
    "outputId": "ad79fbc3-e212-4a72-e784-853acc58756f"
   },
   "outputs": [
    {
     "data": {
      "text/html": [
       "<div>\n",
       "<style scoped>\n",
       "    .dataframe tbody tr th:only-of-type {\n",
       "        vertical-align: middle;\n",
       "    }\n",
       "\n",
       "    .dataframe tbody tr th {\n",
       "        vertical-align: top;\n",
       "    }\n",
       "\n",
       "    .dataframe thead th {\n",
       "        text-align: right;\n",
       "    }\n",
       "</style>\n",
       "<table border=\"1\" class=\"dataframe\">\n",
       "  <thead>\n",
       "    <tr style=\"text-align: right;\">\n",
       "      <th></th>\n",
       "      <th>0</th>\n",
       "      <th>1</th>\n",
       "      <th>2</th>\n",
       "      <th>3</th>\n",
       "    </tr>\n",
       "  </thead>\n",
       "  <tbody>\n",
       "    <tr>\n",
       "      <th>0</th>\n",
       "      <td>2401</td>\n",
       "      <td>Borderlands</td>\n",
       "      <td>Positive</td>\n",
       "      <td>im getting on borderlands and i will murder yo...</td>\n",
       "    </tr>\n",
       "    <tr>\n",
       "      <th>1</th>\n",
       "      <td>2401</td>\n",
       "      <td>Borderlands</td>\n",
       "      <td>Positive</td>\n",
       "      <td>I am coming to the borders and I will kill you...</td>\n",
       "    </tr>\n",
       "    <tr>\n",
       "      <th>2</th>\n",
       "      <td>2401</td>\n",
       "      <td>Borderlands</td>\n",
       "      <td>Positive</td>\n",
       "      <td>im getting on borderlands and i will kill you ...</td>\n",
       "    </tr>\n",
       "    <tr>\n",
       "      <th>3</th>\n",
       "      <td>2401</td>\n",
       "      <td>Borderlands</td>\n",
       "      <td>Positive</td>\n",
       "      <td>im coming on borderlands and i will murder you...</td>\n",
       "    </tr>\n",
       "    <tr>\n",
       "      <th>4</th>\n",
       "      <td>2401</td>\n",
       "      <td>Borderlands</td>\n",
       "      <td>Positive</td>\n",
       "      <td>im getting on borderlands 2 and i will murder ...</td>\n",
       "    </tr>\n",
       "  </tbody>\n",
       "</table>\n",
       "</div>"
      ],
      "text/plain": [
       "      0            1         2  \\\n",
       "0  2401  Borderlands  Positive   \n",
       "1  2401  Borderlands  Positive   \n",
       "2  2401  Borderlands  Positive   \n",
       "3  2401  Borderlands  Positive   \n",
       "4  2401  Borderlands  Positive   \n",
       "\n",
       "                                                   3  \n",
       "0  im getting on borderlands and i will murder yo...  \n",
       "1  I am coming to the borders and I will kill you...  \n",
       "2  im getting on borderlands and i will kill you ...  \n",
       "3  im coming on borderlands and i will murder you...  \n",
       "4  im getting on borderlands 2 and i will murder ...  "
      ]
     },
     "execution_count": 4,
     "metadata": {},
     "output_type": "execute_result"
    }
   ],
   "source": [
    "df.head()"
   ]
  },
  {
   "cell_type": "code",
   "execution_count": 5,
   "metadata": {
    "id": "1e47HkdUxbir"
   },
   "outputs": [],
   "source": [
    "# df_new = df.iloc[1: , 2:4]\n",
    "df_new = df.iloc[: , 2:]"
   ]
  },
  {
   "cell_type": "code",
   "execution_count": 6,
   "metadata": {
    "colab": {
     "base_uri": "https://localhost:8080/",
     "height": 206
    },
    "id": "UhSuPXIfxopH",
    "outputId": "ffd619a0-ba1c-4733-ee1a-31c271e0dd98"
   },
   "outputs": [
    {
     "data": {
      "text/html": [
       "<div>\n",
       "<style scoped>\n",
       "    .dataframe tbody tr th:only-of-type {\n",
       "        vertical-align: middle;\n",
       "    }\n",
       "\n",
       "    .dataframe tbody tr th {\n",
       "        vertical-align: top;\n",
       "    }\n",
       "\n",
       "    .dataframe thead th {\n",
       "        text-align: right;\n",
       "    }\n",
       "</style>\n",
       "<table border=\"1\" class=\"dataframe\">\n",
       "  <thead>\n",
       "    <tr style=\"text-align: right;\">\n",
       "      <th></th>\n",
       "      <th>2</th>\n",
       "      <th>3</th>\n",
       "    </tr>\n",
       "  </thead>\n",
       "  <tbody>\n",
       "    <tr>\n",
       "      <th>0</th>\n",
       "      <td>Positive</td>\n",
       "      <td>im getting on borderlands and i will murder yo...</td>\n",
       "    </tr>\n",
       "    <tr>\n",
       "      <th>1</th>\n",
       "      <td>Positive</td>\n",
       "      <td>I am coming to the borders and I will kill you...</td>\n",
       "    </tr>\n",
       "    <tr>\n",
       "      <th>2</th>\n",
       "      <td>Positive</td>\n",
       "      <td>im getting on borderlands and i will kill you ...</td>\n",
       "    </tr>\n",
       "    <tr>\n",
       "      <th>3</th>\n",
       "      <td>Positive</td>\n",
       "      <td>im coming on borderlands and i will murder you...</td>\n",
       "    </tr>\n",
       "    <tr>\n",
       "      <th>4</th>\n",
       "      <td>Positive</td>\n",
       "      <td>im getting on borderlands 2 and i will murder ...</td>\n",
       "    </tr>\n",
       "  </tbody>\n",
       "</table>\n",
       "</div>"
      ],
      "text/plain": [
       "          2                                                  3\n",
       "0  Positive  im getting on borderlands and i will murder yo...\n",
       "1  Positive  I am coming to the borders and I will kill you...\n",
       "2  Positive  im getting on borderlands and i will kill you ...\n",
       "3  Positive  im coming on borderlands and i will murder you...\n",
       "4  Positive  im getting on borderlands 2 and i will murder ..."
      ]
     },
     "execution_count": 6,
     "metadata": {},
     "output_type": "execute_result"
    }
   ],
   "source": [
    "df_new.head()"
   ]
  },
  {
   "cell_type": "code",
   "execution_count": 7,
   "metadata": {
    "id": "LeJe0bXFxqZd"
   },
   "outputs": [],
   "source": [
    "# df_new.rename(columns ={3:\"Sentiment\" , 2:\"Reviews\"} , inplace=True)\n",
    "df_new.rename(columns ={2:\"Sentiment\" , 3:\"Reviews\"} , inplace=True)"
   ]
  },
  {
   "cell_type": "code",
   "execution_count": 8,
   "metadata": {
    "colab": {
     "base_uri": "https://localhost:8080/",
     "height": 206
    },
    "id": "Iof5Zs9Sx1cp",
    "outputId": "69f9d17b-7bc3-4c4c-b908-567d39ab8e7c"
   },
   "outputs": [
    {
     "data": {
      "text/html": [
       "<div>\n",
       "<style scoped>\n",
       "    .dataframe tbody tr th:only-of-type {\n",
       "        vertical-align: middle;\n",
       "    }\n",
       "\n",
       "    .dataframe tbody tr th {\n",
       "        vertical-align: top;\n",
       "    }\n",
       "\n",
       "    .dataframe thead th {\n",
       "        text-align: right;\n",
       "    }\n",
       "</style>\n",
       "<table border=\"1\" class=\"dataframe\">\n",
       "  <thead>\n",
       "    <tr style=\"text-align: right;\">\n",
       "      <th></th>\n",
       "      <th>Sentiment</th>\n",
       "      <th>Reviews</th>\n",
       "    </tr>\n",
       "  </thead>\n",
       "  <tbody>\n",
       "    <tr>\n",
       "      <th>0</th>\n",
       "      <td>Positive</td>\n",
       "      <td>im getting on borderlands and i will murder yo...</td>\n",
       "    </tr>\n",
       "    <tr>\n",
       "      <th>1</th>\n",
       "      <td>Positive</td>\n",
       "      <td>I am coming to the borders and I will kill you...</td>\n",
       "    </tr>\n",
       "    <tr>\n",
       "      <th>2</th>\n",
       "      <td>Positive</td>\n",
       "      <td>im getting on borderlands and i will kill you ...</td>\n",
       "    </tr>\n",
       "    <tr>\n",
       "      <th>3</th>\n",
       "      <td>Positive</td>\n",
       "      <td>im coming on borderlands and i will murder you...</td>\n",
       "    </tr>\n",
       "    <tr>\n",
       "      <th>4</th>\n",
       "      <td>Positive</td>\n",
       "      <td>im getting on borderlands 2 and i will murder ...</td>\n",
       "    </tr>\n",
       "  </tbody>\n",
       "</table>\n",
       "</div>"
      ],
      "text/plain": [
       "  Sentiment                                            Reviews\n",
       "0  Positive  im getting on borderlands and i will murder yo...\n",
       "1  Positive  I am coming to the borders and I will kill you...\n",
       "2  Positive  im getting on borderlands and i will kill you ...\n",
       "3  Positive  im coming on borderlands and i will murder you...\n",
       "4  Positive  im getting on borderlands 2 and i will murder ..."
      ]
     },
     "execution_count": 8,
     "metadata": {},
     "output_type": "execute_result"
    }
   ],
   "source": [
    "df_new.head()"
   ]
  },
  {
   "cell_type": "code",
   "execution_count": 9,
   "metadata": {
    "id": "G5DMUw86yPS0"
   },
   "outputs": [],
   "source": [
    "def mapping(ele):\n",
    "  if ele==\"Positive\":\n",
    "    return 1\n",
    "  else:\n",
    "    return 0"
   ]
  },
  {
   "cell_type": "code",
   "execution_count": 10,
   "metadata": {
    "id": "_waW_1spx2PW"
   },
   "outputs": [],
   "source": [
    "df_new[\"Sentiment\"]= df_new[\"Sentiment\"].apply(mapping)"
   ]
  },
  {
   "cell_type": "code",
   "execution_count": 11,
   "metadata": {
    "colab": {
     "base_uri": "https://localhost:8080/",
     "height": 206
    },
    "id": "8eQid0XcyZKf",
    "outputId": "af2d78a8-2c85-47c2-8a48-87bfc51885a4"
   },
   "outputs": [
    {
     "name": "stdout",
     "output_type": "stream",
     "text": [
      "Ajay Kumar Yadav: 1/21/FET/BCS/208\n"
     ]
    }
   ],
   "source": [
    "df_new.head()\n",
    "\n",
    "print(\"Ajay Kumar Yadav: 1/21/FET/BCS/208\")"
   ]
  },
  {
   "cell_type": "code",
   "execution_count": 12,
   "metadata": {
    "colab": {
     "base_uri": "https://localhost:8080/"
    },
    "id": "F9Ouyd32zBLW",
    "outputId": "36cd6a52-1f08-49c9-94e1-a92fd15bc663"
   },
   "outputs": [
    {
     "data": {
      "text/plain": [
       "8581     My goodness @ AmbarKOrtiz was SO mad at me for...\n",
       "71534    I must say that for every moment of fun I have...\n",
       "67252    Business AwesomeCapital : Johnson & Meyer John...\n",
       "41061    Here it was! I found the Perfect Flamethrower ...\n",
       "16591    It is not the first time that the EU Commissio...\n",
       "Name: Reviews, dtype: object"
      ]
     },
     "execution_count": 12,
     "metadata": {},
     "output_type": "execute_result"
    }
   ],
   "source": [
    "\n",
    "from sklearn.model_selection import train_test_split\n",
    "\n",
    "X = df_new['Reviews']\n",
    "y = df_new['Sentiment']\n",
    "\n",
    "X_train, X_test, y_train, y_test = train_test_split(X, y, test_size=0.2, random_state=42)\n",
    "\n",
    "X_train.head(5)\n"
   ]
  },
  {
   "cell_type": "code",
   "execution_count": 13,
   "metadata": {
    "id": "aO5Qb1zUzaeZ"
   },
   "outputs": [],
   "source": [
    "\n",
    "from tensorflow.keras.preprocessing.text import Tokenizer\n",
    "from tensorflow.keras.preprocessing.sequence import pad_sequences\n",
    "from tensorflow.keras.models import Sequential\n",
    "from tensorflow.keras.layers import Embedding, SimpleRNN, Bidirectional, GRU, Dense, Dropout\n",
    "\n",
    "\n",
    "from tensorflow.keras import layers"
   ]
  },
  {
   "cell_type": "code",
   "execution_count": 14,
   "metadata": {
    "id": "9c4n5KXBziLS"
   },
   "outputs": [],
   "source": [
    "\n",
    "X_train = X_train.astype(str)\n",
    "X_test = X_test.astype(str)\n",
    "max_words = 10000\n",
    "tokenizer = Tokenizer(num_words=max_words)\n",
    "tokenizer.fit_on_texts(X_train)\n",
    "tokenizer.fit_on_texts(X_test)"
   ]
  },
  {
   "cell_type": "code",
   "execution_count": 15,
   "metadata": {
    "id": "n3kl2haDzpeW"
   },
   "outputs": [],
   "source": [
    "\n",
    "X_train_seq = tokenizer.texts_to_sequences(X_train)\n",
    "X_test_seq = tokenizer.texts_to_sequences(X_test)\n",
    "\n",
    "max_len = 100\n",
    "X_train_pad = pad_sequences(X_train_seq, maxlen=max_len)\n",
    "X_test_pad = pad_sequences(X_test_seq, maxlen=max_len)\n"
   ]
  },
  {
   "cell_type": "code",
   "execution_count": 16,
   "metadata": {
    "id": "YBx52Abszvn5"
   },
   "outputs": [],
   "source": [
    "# RNN\n",
    "model_rnn = Sequential([\n",
    "    Embedding(input_dim=max_words, output_dim=64, input_length=max_len),\n",
    "    SimpleRNN(64),\n",
    "    Dropout(0.1),  # Dropout rate = 0.1\n",
    "    Dense(1, activation='sigmoid')\n",
    "])\n",
    "model_rnn2 = Sequential([\n",
    "    Embedding(input_dim=max_words, output_dim=64, input_length=max_len),\n",
    "    SimpleRNN(64),\n",
    "    Dropout(0.5),  # Dropout rate = 0.5\n",
    "    Dense(1, activation='sigmoid')\n",
    "])"
   ]
  },
  {
   "cell_type": "code",
   "execution_count": 17,
   "metadata": {
    "id": "uM3lqkqpz4wz"
   },
   "outputs": [],
   "source": [
    "# Bidirectional RNN\n",
    "model_bidirectional_rnn = Sequential([\n",
    "    Embedding(input_dim=max_words, output_dim=64, input_length=max_len),\n",
    "    Bidirectional(SimpleRNN(64)),\n",
    "    Dropout(0.1),  # Dropout rate = 0.1\n",
    "    Dense(1, activation='sigmoid')\n",
    "])\n",
    "model_bidirectional_rnn2 = Sequential([\n",
    "    Embedding(input_dim=max_words, output_dim=64, input_length=max_len),\n",
    "    Bidirectional(SimpleRNN(64)),\n",
    "    Dropout(0.5),  # Dropout rate = 0.5\n",
    "    Dense(1, activation='sigmoid')\n",
    "])"
   ]
  },
  {
   "cell_type": "code",
   "execution_count": 18,
   "metadata": {
    "id": "qrgUlaLzz90t"
   },
   "outputs": [],
   "source": [
    "# GRU\n",
    "model_gru = Sequential([\n",
    "    Embedding(input_dim=max_words, output_dim=64, input_length=max_len),\n",
    "    GRU(64),\n",
    "    Dropout(0.1),  # Dropout rate = 0.1\n",
    "    Dense(1, activation='sigmoid')\n",
    "])\n",
    "model_gru2 = Sequential([\n",
    "    Embedding(input_dim=max_words, output_dim=64, input_length=max_len),\n",
    "    GRU(64),\n",
    "    Dropout(0.5),  # Dropout rate = 0.5\n",
    "    Dense(1, activation='sigmoid')\n",
    "])"
   ]
  },
  {
   "cell_type": "code",
   "execution_count": 21,
   "metadata": {
    "colab": {
     "base_uri": "https://localhost:8080/"
    },
    "id": "HLdnUF6Z0EUA",
    "outputId": "81c9d1dc-e9be-437f-e7e2-eb4f75757506"
   },
   "outputs": [
    {
     "name": "stdout",
     "output_type": "stream",
     "text": [
      "\n",
      "Training RNN Model:\n",
      "Epoch 1/5\n",
      "747/747 [==============================] - 22s 26ms/step - loss: 0.4442 - accuracy: 0.7987 - val_loss: 0.3262 - val_accuracy: 0.8627\n",
      "Epoch 2/5\n",
      "747/747 [==============================] - 21s 28ms/step - loss: 0.1996 - accuracy: 0.9202 - val_loss: 0.2761 - val_accuracy: 0.8879\n",
      "Epoch 3/5\n",
      "747/747 [==============================] - 19s 26ms/step - loss: 0.1086 - accuracy: 0.9575 - val_loss: 0.3165 - val_accuracy: 0.8843\n",
      "Epoch 4/5\n",
      "747/747 [==============================] - 19s 26ms/step - loss: 0.0805 - accuracy: 0.9684 - val_loss: 0.3323 - val_accuracy: 0.8879\n",
      "Epoch 5/5\n",
      "747/747 [==============================] - 20s 26ms/step - loss: 0.0726 - accuracy: 0.9708 - val_loss: 0.3669 - val_accuracy: 0.8868\n",
      "467/467 [==============================] - 3s 5ms/step - loss: 0.3620 - accuracy: 0.8914\n",
      "\n",
      "RNN Model - Test Loss: 0.36198535561561584, Test Accuracy: 0.8914105892181396\n",
      "Ajay Kumar Yadav: 1/21/FET/BCS/208\n",
      "\n",
      "Training RNN2 Model:\n",
      "Epoch 1/5\n",
      "747/747 [==============================] - 22s 28ms/step - loss: 0.4575 - accuracy: 0.7886 - val_loss: 0.3330 - val_accuracy: 0.8593\n",
      "Epoch 2/5\n",
      "747/747 [==============================] - 19s 26ms/step - loss: 0.2971 - accuracy: 0.8731 - val_loss: 0.3000 - val_accuracy: 0.8745\n",
      "Epoch 3/5\n",
      "747/747 [==============================] - 20s 26ms/step - loss: 0.1543 - accuracy: 0.9405 - val_loss: 0.2867 - val_accuracy: 0.8862\n",
      "Epoch 4/5\n",
      "747/747 [==============================] - 20s 26ms/step - loss: 0.0999 - accuracy: 0.9622 - val_loss: 0.3227 - val_accuracy: 0.8939\n",
      "Epoch 5/5\n",
      "747/747 [==============================] - 19s 26ms/step - loss: 0.0783 - accuracy: 0.9693 - val_loss: 0.3307 - val_accuracy: 0.8978\n",
      "467/467 [==============================] - 2s 5ms/step - loss: 0.3377 - accuracy: 0.8979\n",
      "\n",
      "RNN2 Model - Test Loss: 0.33774760365486145, Test Accuracy: 0.8979045152664185\n",
      "Ajay Kumar Yadav: 1/21/FET/BCS/208\n",
      "\n",
      "Training Bidirectional RNN Model:\n",
      "Epoch 1/5\n",
      "747/747 [==============================] - 36s 46ms/step - loss: 0.4496 - accuracy: 0.7947 - val_loss: 0.3253 - val_accuracy: 0.8618\n",
      "Epoch 2/5\n",
      "747/747 [==============================] - 34s 45ms/step - loss: 0.2146 - accuracy: 0.9141 - val_loss: 0.2780 - val_accuracy: 0.8899\n",
      "Epoch 3/5\n",
      "747/747 [==============================] - 34s 45ms/step - loss: 0.1147 - accuracy: 0.9557 - val_loss: 0.3120 - val_accuracy: 0.8741\n",
      "Epoch 4/5\n",
      "747/747 [==============================] - 34s 45ms/step - loss: 0.0878 - accuracy: 0.9657 - val_loss: 0.3431 - val_accuracy: 0.8899\n",
      "Epoch 5/5\n",
      "747/747 [==============================] - 44s 58ms/step - loss: 0.0771 - accuracy: 0.9690 - val_loss: 0.3709 - val_accuracy: 0.8726\n",
      "467/467 [==============================] - 5s 11ms/step - loss: 0.3685 - accuracy: 0.8796\n",
      "\n",
      "Bidirectional RNN Model - Test Loss: 0.3685332238674164, Test Accuracy: 0.8795608282089233\n",
      "Ajay Kumar Yadav: 1/21/FET/BCS/208\n",
      "\n",
      "Training Bidirectional RNN2 Model:\n",
      "Epoch 1/5\n",
      "747/747 [==============================] - 40s 50ms/step - loss: 0.4593 - accuracy: 0.7900 - val_loss: 0.3277 - val_accuracy: 0.8635\n",
      "Epoch 2/5\n",
      "747/747 [==============================] - 34s 46ms/step - loss: 0.2471 - accuracy: 0.9003 - val_loss: 0.2754 - val_accuracy: 0.8880\n",
      "Epoch 3/5\n",
      "747/747 [==============================] - 34s 45ms/step - loss: 0.1393 - accuracy: 0.9451 - val_loss: 0.2789 - val_accuracy: 0.8888\n",
      "Epoch 4/5\n",
      "747/747 [==============================] - 39s 52ms/step - loss: 0.2051 - accuracy: 0.9209 - val_loss: 0.2958 - val_accuracy: 0.8846\n",
      "Epoch 5/5\n",
      "747/747 [==============================] - 35s 47ms/step - loss: 0.1699 - accuracy: 0.9311 - val_loss: 0.2849 - val_accuracy: 0.8991\n",
      "467/467 [==============================] - 4s 8ms/step - loss: 0.2850 - accuracy: 0.8980\n",
      "\n",
      "Bidirectional RNN2 Model - Test Loss: 0.28498488664627075, Test Accuracy: 0.8979714512825012\n",
      "Ajay Kumar Yadav: 1/21/FET/BCS/208\n",
      "\n",
      "Training GRU Model:\n",
      "Epoch 1/5\n",
      "747/747 [==============================] - 44s 55ms/step - loss: 0.4369 - accuracy: 0.8013 - val_loss: 0.3578 - val_accuracy: 0.8458\n",
      "Epoch 2/5\n",
      "747/747 [==============================] - 41s 55ms/step - loss: 0.2774 - accuracy: 0.8845 - val_loss: 0.2940 - val_accuracy: 0.8786\n",
      "Epoch 3/5\n",
      "747/747 [==============================] - 42s 56ms/step - loss: 0.1970 - accuracy: 0.9202 - val_loss: 0.2750 - val_accuracy: 0.8889\n",
      "Epoch 4/5\n",
      "747/747 [==============================] - 46s 62ms/step - loss: 0.1515 - accuracy: 0.9400 - val_loss: 0.2708 - val_accuracy: 0.9003\n",
      "Epoch 5/5\n",
      "747/747 [==============================] - 60s 80ms/step - loss: 0.1252 - accuracy: 0.9500 - val_loss: 0.2760 - val_accuracy: 0.9041\n",
      "467/467 [==============================] - 8s 18ms/step - loss: 0.2799 - accuracy: 0.9041\n",
      "\n",
      "GRU Model - Test Loss: 0.2798965871334076, Test Accuracy: 0.9040637612342834\n",
      "Ajay Kumar Yadav: 1/21/FET/BCS/208\n",
      "\n",
      "Training GRU2 Model:\n",
      "Epoch 1/5\n",
      "747/747 [==============================] - 66s 83ms/step - loss: 0.4374 - accuracy: 0.8029 - val_loss: 0.3477 - val_accuracy: 0.8499\n",
      "Epoch 2/5\n",
      "747/747 [==============================] - 61s 82ms/step - loss: 0.2730 - accuracy: 0.8878 - val_loss: 0.2970 - val_accuracy: 0.8771\n",
      "Epoch 3/5\n",
      "747/747 [==============================] - 64s 86ms/step - loss: 0.1948 - accuracy: 0.9221 - val_loss: 0.2692 - val_accuracy: 0.8923\n",
      "Epoch 4/5\n",
      "747/747 [==============================] - 71s 95ms/step - loss: 0.1559 - accuracy: 0.9384 - val_loss: 0.2678 - val_accuracy: 0.8977\n",
      "Epoch 5/5\n",
      "747/747 [==============================] - 67s 90ms/step - loss: 0.1302 - accuracy: 0.9491 - val_loss: 0.2799 - val_accuracy: 0.9027\n",
      "467/467 [==============================] - 5s 11ms/step - loss: 0.2890 - accuracy: 0.9008\n",
      "\n",
      "GRU2 Model - Test Loss: 0.28896433115005493, Test Accuracy: 0.9007833003997803\n",
      "Ajay Kumar Yadav: 1/21/FET/BCS/208\n"
     ]
    }
   ],
   "source": [
    "\n",
    "models = [model_rnn,model_rnn2, model_bidirectional_rnn,model_bidirectional_rnn2, model_gru,model_gru2]\n",
    "model_names = ['RNN','RNN2', 'Bidirectional RNN','Bidirectional RNN2', 'GRU','GRU2']\n",
    "\n",
    "for model, name in zip(models, model_names):\n",
    "    print(f\"\\nTraining {name} Model:\")\n",
    "    model.compile(optimizer='adam', loss='binary_crossentropy', metrics=['accuracy'])\n",
    "    model.fit(X_train_pad, y_train, epochs=3, batch_size=64, validation_split=0.2)\n",
    "    # Evaluation\n",
    "    loss, accuracy = model.evaluate(X_test_pad, y_test)\n",
    "    print(f\"\\n{name} Model - Test Loss: {loss}, Test Accuracy: {accuracy}\")\n",
    "\n"
   ]
  },
  {
   "cell_type": "code",
   "execution_count": 16,
   "metadata": {},
   "outputs": [],
   "source": [
    "# RNN\n",
    "model_rnn3 = Sequential([\n",
    "    Embedding(input_dim=max_words, output_dim=128, input_length=max_len),\n",
    "    SimpleRNN(64),\n",
    "    Dropout(0.1),  # Dropout rate = 0.1\n",
    "    Dense(1, activation='sigmoid')\n",
    "])\n",
    "model_rnn4 = Sequential([\n",
    "    Embedding(input_dim=max_words, output_dim=128, input_length=max_len),\n",
    "    SimpleRNN(64),\n",
    "    Dropout(0.5),  # Dropout rate = 0.5\n",
    "    Dense(1, activation='sigmoid')\n",
    "])\n",
    "\n",
    "# Bidirectional RNN\n",
    "model_bidirectional_rnn3 = Sequential([\n",
    "    Embedding(input_dim=max_words, output_dim=128, input_length=max_len),\n",
    "    Bidirectional(SimpleRNN(64)),\n",
    "    Dropout(0.1),  # Dropout rate = 0.1\n",
    "    Dense(1, activation='sigmoid')\n",
    "])\n",
    "model_bidirectional_rnn4 = Sequential([\n",
    "    Embedding(input_dim=max_words, output_dim=128, input_length=max_len),\n",
    "    Bidirectional(SimpleRNN(64)),\n",
    "    Dropout(0.5),  # Dropout rate = 0.5\n",
    "    Dense(1, activation='sigmoid')\n",
    "])\n",
    "\n",
    "# GRU\n",
    "model_gru3 = Sequential([\n",
    "    Embedding(input_dim=max_words, output_dim=128, input_length=max_len),\n",
    "    GRU(64),\n",
    "    Dropout(0.1),  # Dropout rate = 0.1\n",
    "    Dense(1, activation='sigmoid')\n",
    "])\n",
    "model_gru4 = Sequential([\n",
    "    Embedding(input_dim=max_words, output_dim=128, input_length=max_len),\n",
    "    GRU(64),\n",
    "    Dropout(0.5),  # Dropout rate = 0.5\n",
    "    Dense(1, activation='sigmoid')\n",
    "])\n"
   ]
  },
  {
   "cell_type": "code",
   "execution_count": 17,
   "metadata": {},
   "outputs": [
    {
     "name": "stdout",
     "output_type": "stream",
     "text": [
      "\n",
      "Training RNN3 Model:\n",
      "Epoch 1/5\n",
      "747/747 [==============================] - 48s 59ms/step - loss: 0.4243 - accuracy: 0.8106 - val_loss: 0.3532 - val_accuracy: 0.8463\n",
      "Epoch 2/5\n",
      "747/747 [==============================] - 44s 58ms/step - loss: 0.2012 - accuracy: 0.9202 - val_loss: 0.2901 - val_accuracy: 0.8794\n",
      "Epoch 3/5\n",
      "747/747 [==============================] - 44s 58ms/step - loss: 0.1070 - accuracy: 0.9585 - val_loss: 0.3043 - val_accuracy: 0.8916\n",
      "Epoch 4/5\n",
      "747/747 [==============================] - 43s 57ms/step - loss: 0.0791 - accuracy: 0.9687 - val_loss: 0.3457 - val_accuracy: 0.8836\n",
      "Epoch 5/5\n",
      "747/747 [==============================] - 44s 59ms/step - loss: 0.0713 - accuracy: 0.9716 - val_loss: 0.3804 - val_accuracy: 0.8796\n",
      "467/467 [==============================] - 7s 15ms/step - loss: 0.3907 - accuracy: 0.8811\n",
      "\n",
      "RNN3 Model - Test Loss: 0.3907248079776764, Test Accuracy: 0.881100594997406\n",
      "Ajay Kumar Yadav: 1/21/FET/BCS/208\n",
      "\n",
      "Training RNN4 Model:\n",
      "Epoch 1/5\n",
      "747/747 [==============================] - 49s 59ms/step - loss: 0.4542 - accuracy: 0.7901 - val_loss: 0.3224 - val_accuracy: 0.8653\n",
      "Epoch 2/5\n",
      "747/747 [==============================] - 44s 58ms/step - loss: 0.2086 - accuracy: 0.9169 - val_loss: 0.2656 - val_accuracy: 0.8923\n",
      "Epoch 3/5\n",
      "747/747 [==============================] - 43s 58ms/step - loss: 0.1175 - accuracy: 0.9540 - val_loss: 0.2931 - val_accuracy: 0.8918\n",
      "Epoch 4/5\n",
      "747/747 [==============================] - 42s 57ms/step - loss: 0.0939 - accuracy: 0.9636 - val_loss: 0.3267 - val_accuracy: 0.8812\n",
      "Epoch 5/5\n",
      "747/747 [==============================] - 43s 57ms/step - loss: 0.0796 - accuracy: 0.9679 - val_loss: 0.3354 - val_accuracy: 0.8918\n",
      "467/467 [==============================] - 7s 16ms/step - loss: 0.3332 - accuracy: 0.8922\n",
      "\n",
      "RNN4 Model - Test Loss: 0.3331771492958069, Test Accuracy: 0.8922139406204224\n",
      "Ajay Kumar Yadav: 1/21/FET/BCS/208\n",
      "\n",
      "Training Bidirectional RNN3 Model:\n",
      "Epoch 1/5\n",
      "747/747 [==============================] - 68s 83ms/step - loss: 0.4299 - accuracy: 0.8054 - val_loss: 0.3095 - val_accuracy: 0.8679\n",
      "Epoch 2/5\n",
      "747/747 [==============================] - 61s 82ms/step - loss: 0.1914 - accuracy: 0.9239 - val_loss: 0.2719 - val_accuracy: 0.8911\n",
      "Epoch 3/5\n",
      "747/747 [==============================] - 61s 82ms/step - loss: 0.1073 - accuracy: 0.9580 - val_loss: 0.3140 - val_accuracy: 0.8886\n",
      "Epoch 4/5\n",
      "747/747 [==============================] - 85s 114ms/step - loss: 0.0858 - accuracy: 0.9660 - val_loss: 0.3320 - val_accuracy: 0.8887\n",
      "Epoch 5/5\n",
      "747/747 [==============================] - 61s 81ms/step - loss: 0.0710 - accuracy: 0.9717 - val_loss: 0.3690 - val_accuracy: 0.8819\n",
      "467/467 [==============================] - 9s 20ms/step - loss: 0.3658 - accuracy: 0.8851\n",
      "\n",
      "Bidirectional RNN3 Model - Test Loss: 0.3658284842967987, Test Accuracy: 0.8850505352020264\n",
      "Ajay Kumar Yadav: 1/21/FET/BCS/208\n",
      "\n",
      "Training Bidirectional RNN4 Model:\n",
      "Epoch 1/5\n",
      "747/747 [==============================] - 71s 86ms/step - loss: 0.4617 - accuracy: 0.7846 - val_loss: 0.3252 - val_accuracy: 0.8627\n",
      "Epoch 2/5\n",
      "747/747 [==============================] - 62s 82ms/step - loss: 0.2189 - accuracy: 0.9101 - val_loss: 0.2837 - val_accuracy: 0.8907\n",
      "Epoch 3/5\n",
      "747/747 [==============================] - 62s 83ms/step - loss: 0.1489 - accuracy: 0.9408 - val_loss: 0.2789 - val_accuracy: 0.8971\n",
      "Epoch 4/5\n",
      "747/747 [==============================] - 62s 83ms/step - loss: 0.0986 - accuracy: 0.9614 - val_loss: 0.3151 - val_accuracy: 0.8809\n",
      "Epoch 5/5\n",
      "747/747 [==============================] - 61s 81ms/step - loss: 0.0805 - accuracy: 0.9680 - val_loss: 0.3286 - val_accuracy: 0.8940\n",
      "467/467 [==============================] - 9s 20ms/step - loss: 0.3386 - accuracy: 0.8964\n",
      "\n",
      "Bidirectional RNN4 Model - Test Loss: 0.3386302590370178, Test Accuracy: 0.8964316844940186\n",
      "Ajay Kumar Yadav: 1/21/FET/BCS/208\n",
      "\n",
      "Training GRU3 Model:\n",
      "Epoch 1/5\n",
      "747/747 [==============================] - 101s 124ms/step - loss: 0.4239 - accuracy: 0.8062 - val_loss: 0.3355 - val_accuracy: 0.8586\n",
      "Epoch 2/5\n",
      "747/747 [==============================] - 91s 122ms/step - loss: 0.2485 - accuracy: 0.8967 - val_loss: 0.2813 - val_accuracy: 0.8853\n",
      "Epoch 3/5\n",
      "747/747 [==============================] - 91s 122ms/step - loss: 0.1738 - accuracy: 0.9302 - val_loss: 0.2687 - val_accuracy: 0.9008\n",
      "Epoch 4/5\n",
      "747/747 [==============================] - 92s 123ms/step - loss: 0.1316 - accuracy: 0.9474 - val_loss: 0.2573 - val_accuracy: 0.9083\n",
      "Epoch 5/5\n",
      "747/747 [==============================] - 91s 122ms/step - loss: 0.1050 - accuracy: 0.9581 - val_loss: 0.2604 - val_accuracy: 0.9119\n",
      "467/467 [==============================] - 12s 26ms/step - loss: 0.2579 - accuracy: 0.9133\n",
      "\n",
      "GRU3 Model - Test Loss: 0.2578665614128113, Test Accuracy: 0.9133025407791138\n",
      "Ajay Kumar Yadav: 1/21/FET/BCS/208\n",
      "\n",
      "Training GRU4 Model:\n",
      "Epoch 1/5\n",
      "747/747 [==============================] - 102s 126ms/step - loss: 0.4246 - accuracy: 0.8102 - val_loss: 0.3352 - val_accuracy: 0.8611\n",
      "Epoch 2/5\n",
      "747/747 [==============================] - 93s 124ms/step - loss: 0.2507 - accuracy: 0.8967 - val_loss: 0.2785 - val_accuracy: 0.8858\n",
      "Epoch 3/5\n",
      "747/747 [==============================] - 94s 125ms/step - loss: 0.1773 - accuracy: 0.9293 - val_loss: 0.2738 - val_accuracy: 0.8956\n",
      "Epoch 4/5\n",
      "747/747 [==============================] - 95s 127ms/step - loss: 0.1366 - accuracy: 0.9469 - val_loss: 0.2581 - val_accuracy: 0.9059\n",
      "Epoch 5/5\n",
      "747/747 [==============================] - 95s 128ms/step - loss: 0.1118 - accuracy: 0.9557 - val_loss: 0.2712 - val_accuracy: 0.9062\n",
      "467/467 [==============================] - 12s 27ms/step - loss: 0.2677 - accuracy: 0.9079\n",
      "\n",
      "GRU4 Model - Test Loss: 0.2677140533924103, Test Accuracy: 0.9079467058181763\n",
      "Ajay Kumar Yadav: 1/21/FET/BCS/208\n"
     ]
    }
   ],
   "source": [
    "models = [model_rnn3,model_rnn4, model_bidirectional_rnn3,model_bidirectional_rnn4, model_gru3,model_gru4]\n",
    "model_names = ['RNN3','RNN4', 'Bidirectional RNN3','Bidirectional RNN4', 'GRU3','GRU4']\n",
    "\n",
    "for model, name in zip(models, model_names):\n",
    "    print(f\"\\nTraining {name} Model:\")\n",
    "    model.compile(optimizer='adam', loss='binary_crossentropy', metrics=['accuracy'])\n",
    "    model.fit(X_train_pad, y_train, epochs=5, batch_size=64, validation_split=0.2)\n",
    "    # Evaluation\n",
    "    loss, accuracy = model.evaluate(X_test_pad, y_test)\n",
    "    print(f\"\\n{name} Model - Test Loss: {loss}, Test Accuracy: {accuracy}\")\n",
    " "
   ]
  },
  {
   "cell_type": "code",
   "execution_count": 16,
   "metadata": {},
   "outputs": [],
   "source": [
    "\n",
    "# # RNN\n",
    "# model_rnn5 = Sequential([\n",
    "#     Embedding(input_dim=max_words, output_dim=256, input_length=max_len),\n",
    "#     SimpleRNN(64),\n",
    "#     Dropout(0.1),  # Dropout rate = 0.1\n",
    "#     Dense(1, activation='sigmoid')\n",
    "# ])\n",
    "# model_rnn6 = Sequential([\n",
    "#     Embedding(input_dim=max_words, output_dim=256, input_length=max_len),\n",
    "#     SimpleRNN(64),\n",
    "#     Dropout(0.5),  # Dropout rate = 0.5\n",
    "#     Dense(1, activation='sigmoid')\n",
    "# ])\n",
    "\n",
    "# # Bidirectional RNN\n",
    "# model_bidirectional_rnn5 = Sequential([\n",
    "#     Embedding(input_dim=max_words, output_dim=256, input_length=max_len),\n",
    "#     Bidirectional(SimpleRNN(64)),\n",
    "#     Dropout(0.1),  # Dropout rate = 0.1\n",
    "#     Dense(1, activation='sigmoid')\n",
    "# ])\n",
    "# model_bidirectional_rnn6 = Sequential([\n",
    "#     Embedding(input_dim=max_words, output_dim=256, input_length=max_len),\n",
    "#     Bidirectional(SimpleRNN(64)),\n",
    "#     Dropout(0.5),  # Dropout rate = 0.5\n",
    "#     Dense(1, activation='sigmoid')\n",
    "# ])\n",
    "\n",
    "# # GRU\n",
    "# model_gru5 = Sequential([\n",
    "#     Embedding(input_dim=max_words, output_dim=256, input_length=max_len),\n",
    "#     GRU(64),\n",
    "#     Dropout(0.1),  # Dropout rate = 0.1\n",
    "#     Dense(1, activation='sigmoid')\n",
    "# ])\n",
    "# model_gru6 = Sequential([\n",
    "#     Embedding(input_dim=max_words, output_dim=256, input_length=max_len),\n",
    "#     GRU(64),\n",
    "#     Dropout(0.5),  # Dropout rate = 0.5\n",
    "#     Dense(1, activation='sigmoid')\n",
    "# ])\n",
    "\n",
    "\n",
    "# Two LSTM Layerrs\n",
    "model_two_lstm1= Sequential([\n",
    "    Embedding(input_dim=max_words, output_dim=128, input_length=max_len),\n",
    "    layers.LSTM(128, return_sequences=True),\n",
    "    layers.LSTM(128),\n",
    "    Dropout(0.1), #Dropout Rate = 0.1\n",
    "    Dense(1, activation='sigmoid')\n",
    "])\n",
    "model_two_lstm2= Sequential([\n",
    "    Embedding(input_dim=max_words, output_dim=128, input_length=max_len),\n",
    "    layers.LSTM(128, return_sequences=True),\n",
    "    layers.LSTM(128),\n",
    "    Dropout(0.5), # Dropout rate = 0.5\n",
    "    Dense(1, activation='sigmoid')\n",
    "])\n",
    "\n",
    "# Two LSTM Layerrs\n",
    "model_two_lstm3= Sequential([\n",
    "    Embedding(input_dim=max_words, output_dim=64, input_length=max_len),\n",
    "    layers.LSTM(128, return_sequences=True),\n",
    "    layers.LSTM(128),\n",
    "    Dropout(0.1), #Dropout Rate = 0.1\n",
    "    Dense(1, activation='sigmoid')\n",
    "])\n",
    "model_two_lstm4= Sequential([\n",
    "    Embedding(input_dim=max_words, output_dim=64, input_length=max_len),\n",
    "    layers.LSTM(128, return_sequences=True),\n",
    "    layers.LSTM(128),\n",
    "    Dropout(0.5), # Dropout rate = 0.5\n",
    "    Dense(1, activation='sigmoid')\n",
    "])"
   ]
  },
  {
   "cell_type": "code",
   "execution_count": 18,
   "metadata": {},
   "outputs": [
    {
     "name": "stdout",
     "output_type": "stream",
     "text": [
      "\n",
      "Training LSTM1 Model:\n",
      "Epoch 1/3\n",
      "747/747 [==============================] - 669s 875ms/step - loss: 0.4180 - accuracy: 0.8116 - val_loss: 0.3278 - val_accuracy: 0.8602\n",
      "Epoch 2/3\n",
      "747/747 [==============================] - 540s 724ms/step - loss: 0.2388 - accuracy: 0.9029 - val_loss: 0.2766 - val_accuracy: 0.8898\n",
      "Epoch 3/3\n",
      "747/747 [==============================] - 534s 715ms/step - loss: 0.1629 - accuracy: 0.9349 - val_loss: 0.2616 - val_accuracy: 0.9016\n",
      "467/467 [==============================] - 44s 95ms/step - loss: 0.2529 - accuracy: 0.9027\n",
      "\n",
      "LSTM1 Model - Test Loss: 0.25289246439933777, Test Accuracy: 0.9027248024940491\n",
      "Ajay Kumar Yadav: 1/21/FET/BCS/208\n",
      "\n",
      "Training LSTM2 Model:\n",
      "Epoch 1/3\n",
      "747/747 [==============================] - 427s 562ms/step - loss: 0.4257 - accuracy: 0.8067 - val_loss: 0.3313 - val_accuracy: 0.8598\n",
      "Epoch 2/3\n",
      "747/747 [==============================] - 442s 592ms/step - loss: 0.2474 - accuracy: 0.8994 - val_loss: 0.2720 - val_accuracy: 0.8891\n",
      "Epoch 3/3\n",
      "747/747 [==============================] - 441s 591ms/step - loss: 0.1672 - accuracy: 0.9337 - val_loss: 0.2569 - val_accuracy: 0.8995\n",
      "467/467 [==============================] - 40s 86ms/step - loss: 0.2597 - accuracy: 0.8971\n",
      "\n",
      "LSTM2 Model - Test Loss: 0.25970226526260376, Test Accuracy: 0.8971011638641357\n",
      "Ajay Kumar Yadav: 1/21/FET/BCS/208\n",
      "\n",
      "Training LSTM3 Model:\n",
      "Epoch 1/3\n",
      "747/747 [==============================] - 379s 498ms/step - loss: 0.4274 - accuracy: 0.8050 - val_loss: 0.3508 - val_accuracy: 0.8523\n",
      "Epoch 2/3\n",
      "747/747 [==============================] - 364s 488ms/step - loss: 0.2505 - accuracy: 0.8974 - val_loss: 0.2709 - val_accuracy: 0.8858\n",
      "Epoch 3/3\n",
      "747/747 [==============================] - 380s 508ms/step - loss: 0.1699 - accuracy: 0.9319 - val_loss: 0.2728 - val_accuracy: 0.8909\n",
      "467/467 [==============================] - 41s 87ms/step - loss: 0.2701 - accuracy: 0.8932\n",
      "\n",
      "LSTM3 Model - Test Loss: 0.2701336741447449, Test Accuracy: 0.8932181596755981\n",
      "Ajay Kumar Yadav: 1/21/FET/BCS/208\n",
      "\n",
      "Training LSTM4 Model:\n",
      "Epoch 1/3\n",
      "747/747 [==============================] - 430s 567ms/step - loss: 0.4393 - accuracy: 0.8007 - val_loss: 0.3515 - val_accuracy: 0.8528\n",
      "Epoch 2/3\n",
      "747/747 [==============================] - 421s 564ms/step - loss: 0.2650 - accuracy: 0.8915 - val_loss: 0.2886 - val_accuracy: 0.8817\n",
      "Epoch 3/3\n",
      "747/747 [==============================] - 410s 548ms/step - loss: 0.1864 - accuracy: 0.9248 - val_loss: 0.2647 - val_accuracy: 0.8943\n",
      "467/467 [==============================] - 41s 87ms/step - loss: 0.2613 - accuracy: 0.8982\n",
      "\n",
      "LSTM4 Model - Test Loss: 0.26129740476608276, Test Accuracy: 0.8981723189353943\n",
      "Ajay Kumar Yadav: 1/21/FET/BCS/208\n"
     ]
    }
   ],
   "source": [
    "# models = [model_rnn5,model_rnn6, model_bidirectional_rnn5,model_bidirectional_rnn6, model_gru5,model_gru6, model_two_lstm1, model_two_lstm2,model_two_lstm3,model_two_lstm4]\n",
    "# model_names = ['RNN5','RNN6', 'Bidirectional RNN5','Bidirectional RNN6', 'GRU5','GRU6', 'LSTM1', 'LSTM2','LSTM3', 'LSTM4']\n",
    "models = [model_two_lstm1, model_two_lstm2,model_two_lstm3,model_two_lstm4]\n",
    "model_names = ['LSTM1', 'LSTM2','LSTM3', 'LSTM4']\n",
    "\n",
    "for model, name in zip(models, model_names):\n",
    "    print(f\"\\nTraining {name} Model:\")\n",
    "    model.compile(optimizer='adam', loss='binary_crossentropy', metrics=['accuracy'])\n",
    "    model.fit(X_train_pad, y_train, epochs=3, batch_size=64, validation_split=0.2)\n",
    "    # Evaluation\n",
    "    loss, accuracy = model.evaluate(X_test_pad, y_test)\n",
    "    print(f\"\\n{name} Model - Test Loss: {loss}, Test Accuracy: {accuracy}\")\n"
   ]
  },
  {
   "cell_type": "code",
   "execution_count": 36,
   "metadata": {
    "id": "w8MFRLGT0TMy"
   },
   "outputs": [],
   "source": [
    "# Two LSTM Layerrs\n",
    "model_two_lstm = Sequential([\n",
    "    Embedding(input_dim=max_words, output_dim=256, input_length=max_len),\n",
    "    layers.LSTM(128, return_sequences=True),\n",
    "    layers.LSTM(128),\n",
    "    Dropout(0.1),\n",
    "    Dense(1, activation='sigmoid')\n",
    "])"
   ]
  },
  {
   "cell_type": "code",
   "execution_count": null,
   "metadata": {
    "colab": {
     "base_uri": "https://localhost:8080/"
    },
    "id": "WHp5mfxh9rOx",
    "outputId": "4d3e6a24-ada2-491e-b210-05b2e4125914"
   },
   "outputs": [
    {
     "name": "stdout",
     "output_type": "stream",
     "text": [
      "Epoch 1/5\n",
      "747/747 [==============================] - 366s 485ms/step - loss: 0.4159 - accuracy: 0.8115 - val_loss: 0.3295 - val_accuracy: 0.8641\n",
      "Epoch 2/5\n",
      "673/747 [==========================>...] - ETA: 13:05 - loss: 0.2403 - accuracy: 0.9021"
     ]
    }
   ],
   "source": [
    "model_two_lstm.compile(optimizer='adam', loss='binary_crossentropy', metrics=['accuracy'])\n",
    "model_two_lstm.fit(X_train_pad, y_train, epochs=3, batch_size=64, validation_split=0.2)\n",
    "\n",
    "loss, accuracy = model_two_lstm.evaluate(X_test_pad, y_test)\n",
    "print(f\"\\nTwo LSTM Layers Model - Test Loss: {loss}, Test Accuracy: {accuracy}\")\n"
   ]
  },
  {
   "cell_type": "code",
   "execution_count": 20,
   "metadata": {
    "id": "UZkMJU2D9v6l"
   },
   "outputs": [],
   "source": [
    "# Single LSTM Layerrs\n",
    "model_single_lstm = Sequential([\n",
    "    Embedding(input_dim=max_words, output_dim=256, input_length=max_len),\n",
    "    layers.LSTM(128, return_sequences=True),\n",
    "    Dropout(0.5), # Dropout rate = 0.5\n",
    "    Dense(1, activation='sigmoid')\n",
    "])"
   ]
  },
  {
   "cell_type": "code",
   "execution_count": 21,
   "metadata": {},
   "outputs": [
    {
     "name": "stdout",
     "output_type": "stream",
     "text": [
      "Epoch 1/5\n",
      "8/8 [==============================] - 5s 289ms/step - loss: 0.4620 - accuracy: 0.8895 - val_loss: 0.0500 - val_accuracy: 1.0000\n",
      "Epoch 2/5\n",
      "8/8 [==============================] - 2s 200ms/step - loss: 0.0246 - accuracy: 1.0000 - val_loss: 0.0114 - val_accuracy: 1.0000\n",
      "Epoch 3/5\n",
      "8/8 [==============================] - 2s 207ms/step - loss: 0.0098 - accuracy: 1.0000 - val_loss: 0.0078 - val_accuracy: 1.0000\n",
      "Epoch 4/5\n",
      "8/8 [==============================] - 2s 203ms/step - loss: 0.0072 - accuracy: 1.0000 - val_loss: 0.0064 - val_accuracy: 1.0000\n",
      "Epoch 5/5\n",
      "8/8 [==============================] - 2s 215ms/step - loss: 0.0061 - accuracy: 1.0000 - val_loss: 0.0057 - val_accuracy: 1.0000\n",
      "5/5 [==============================] - 0s 54ms/step - loss: 1.2499e-05 - accuracy: 1.0000\n",
      "\n",
      "Two LSTM Layers Model - Test Loss: 1.2499172953539528e-05, Test Accuracy: 1.0\n"
     ]
    }
   ],
   "source": [
    "model_single_lstm.compile(optimizer='adam', loss='binary_crossentropy', metrics=['accuracy'])\n",
    "model_single_lstm.fit(X_train_pad, y_train, epochs=5, batch_size=64, validation_split=0.2)\n",
    "\n",
    "loss, accuracy = model_two_lstm.evaluate(X_test_pad, y_test)\n",
    "print(f\"\\nTwo LSTM Layers Model - Test Loss: {loss}, Test Accuracy: {accuracy}\")"
   ]
  },
  {
   "cell_type": "code",
   "execution_count": 1,
   "metadata": {},
   "outputs": [
    {
     "ename": "NameError",
     "evalue": "name 'Sequential' is not defined",
     "output_type": "error",
     "traceback": [
      "\u001b[1;31m---------------------------------------------------------------------------\u001b[0m",
      "\u001b[1;31mNameError\u001b[0m                                 Traceback (most recent call last)",
      "Cell \u001b[1;32mIn[1], line 2\u001b[0m\n\u001b[0;32m      1\u001b[0m \u001b[38;5;66;03m# Single LSTM Layerrs\u001b[39;00m\n\u001b[1;32m----> 2\u001b[0m model_two_lstm \u001b[38;5;241m=\u001b[39m Sequential([\n\u001b[0;32m      3\u001b[0m     Embedding(input_dim\u001b[38;5;241m=\u001b[39mmax_words, output_dim\u001b[38;5;241m=\u001b[39m\u001b[38;5;241m256\u001b[39m, input_length\u001b[38;5;241m=\u001b[39mmax_len),\n\u001b[0;32m      4\u001b[0m     layers\u001b[38;5;241m.\u001b[39mLSTM(\u001b[38;5;241m128\u001b[39m, return_sequences\u001b[38;5;241m=\u001b[39m\u001b[38;5;28;01mTrue\u001b[39;00m),\n\u001b[0;32m      5\u001b[0m     Dropout(\u001b[38;5;241m0.1\u001b[39m), \u001b[38;5;66;03m# Dropout rate = 0.1\u001b[39;00m\n\u001b[0;32m      6\u001b[0m     Dense(\u001b[38;5;241m1\u001b[39m, activation\u001b[38;5;241m=\u001b[39m\u001b[38;5;124m'\u001b[39m\u001b[38;5;124msigmoid\u001b[39m\u001b[38;5;124m'\u001b[39m)\n\u001b[0;32m      7\u001b[0m ])\n",
      "\u001b[1;31mNameError\u001b[0m: name 'Sequential' is not defined"
     ]
    }
   ],
   "source": [
    "# Single LSTM Layerrs\n",
    "model_single_lstm5 = Sequential([\n",
    "    Embedding(input_dim=max_words, output_dim=256, input_length=max_len),\n",
    "    layers.LSTM(128, return_sequences=True),\n",
    "    Dropout(0.1), # Dropout rate = 0.1\n",
    "    Dense(1, activation='sigmoid')\n",
    "])"
   ]
  },
  {
   "cell_type": "code",
   "execution_count": null,
   "metadata": {},
   "outputs": [],
   "source": [
    "model_two_lstm5.compile(optimizer='adam', loss='binary_crossentropy', metrics=['accuracy'])\n",
    "model_two_lstm5.fit(X_train_pad, y_train, epochs=5, batch_size=64, validation_split=0.2)\n",
    "\n",
    "loss, accuracy = model_two_lstm.evaluate(X_test_pad, y_test)\n",
    "print(f\"\\nTwo LSTM Layers Model - Test Loss: {loss}, Test Accuracy: {accuracy}\")"
   ]
  }
 ],
 "metadata": {
  "colab": {
   "provenance": []
  },
  "kernelspec": {
   "display_name": "Python 3 (ipykernel)",
   "language": "python",
   "name": "python3"
  },
  "language_info": {
   "codemirror_mode": {
    "name": "ipython",
    "version": 3
   },
   "file_extension": ".py",
   "mimetype": "text/x-python",
   "name": "python",
   "nbconvert_exporter": "python",
   "pygments_lexer": "ipython3",
   "version": "3.11.8"
  }
 },
 "nbformat": 4,
 "nbformat_minor": 4
}
